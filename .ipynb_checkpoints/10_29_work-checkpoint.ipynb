{
 "cells": [
  {
   "cell_type": "code",
   "execution_count": 2,
   "metadata": {},
   "outputs": [],
   "source": [
    "import pandas as pd\n",
    "import geopandas as gpd\n",
    "import matplotlib as plt\n",
    "\n",
    "pd.set_option('display.max_columns', 500)"
   ]
  },
  {
   "cell_type": "code",
   "execution_count": 3,
   "metadata": {},
   "outputs": [],
   "source": [
    "new_data = pd.read_stata('12cdenhancedupdate1019_clean.dta')"
   ]
  },
  {
   "cell_type": "code",
   "execution_count": 26,
   "metadata": {},
   "outputs": [],
   "source": [
    "new_data['under_30'] = new_data.voters_age.apply(lambda x: 1 if x<30 else 0)\n",
    "new_data['under_60'] = new_data.voters_age.apply(lambda x: 1 if x<60 else 0)"
   ]
  },
  {
   "cell_type": "code",
   "execution_count": 30,
   "metadata": {},
   "outputs": [],
   "source": [
    "elections = ['special_20190226', 'primary_20190625', 'primary_20180913', 'primary_20180626']\n",
    "# look at 6-25 multiple columns to see if there's a difference\n",
    "# add columns for 2 and not 1\n",
    "# add column for first vote in 6-25\n",
    "# 4x voters\n",
    "# final data frame -- rows will be election districts, columns = total voters from other spreadsheet, number voters\n",
    "# in all 4 elections, number under 30 voters, number under 60 voters, average age in each election, "
   ]
  },
  {
   "cell_type": "code",
   "execution_count": 43,
   "metadata": {},
   "outputs": [
    {
     "data": {
      "text/plain": [
       "0        True\n",
       "1        True\n",
       "2        True\n",
       "3        True\n",
       "4        True\n",
       "5        True\n",
       "6        True\n",
       "7        True\n",
       "8        True\n",
       "9        True\n",
       "10       True\n",
       "11       True\n",
       "12       True\n",
       "13       True\n",
       "14       True\n",
       "15       True\n",
       "16       True\n",
       "17       True\n",
       "18       True\n",
       "19       True\n",
       "20       True\n",
       "21       True\n",
       "22       True\n",
       "23       True\n",
       "24       True\n",
       "25       True\n",
       "26       True\n",
       "27       True\n",
       "28       True\n",
       "29       True\n",
       "         ... \n",
       "74312    True\n",
       "74313    True\n",
       "74314    True\n",
       "74315    True\n",
       "74316    True\n",
       "74317    True\n",
       "74318    True\n",
       "74319    True\n",
       "74320    True\n",
       "74321    True\n",
       "74322    True\n",
       "74323    True\n",
       "74324    True\n",
       "74325    True\n",
       "74326    True\n",
       "74327    True\n",
       "74328    True\n",
       "74329    True\n",
       "74330    True\n",
       "74331    True\n",
       "74332    True\n",
       "74333    True\n",
       "74334    True\n",
       "74335    True\n",
       "74336    True\n",
       "74337    True\n",
       "74338    True\n",
       "74339    True\n",
       "74340    True\n",
       "74341    True\n",
       "Name: primary_20180626, Length: 74342, dtype: bool"
      ]
     },
     "execution_count": 43,
     "metadata": {},
     "output_type": "execute_result"
    }
   ],
   "source": [
    "new_data['primary_20180626'] = new_data['primary_20180626'].apply(lambda x: 1 if x=='Y' else 0)"
   ]
  },
  {
   "cell_type": "code",
   "execution_count": 39,
   "metadata": {},
   "outputs": [
    {
     "data": {
      "text/plain": [
       "40162"
      ]
     },
     "execution_count": 39,
     "metadata": {},
     "output_type": "execute_result"
    }
   ],
   "source": [
    "new_data['P_primary_20180626'].values.sum()"
   ]
  },
  {
   "cell_type": "code",
   "execution_count": null,
   "metadata": {},
   "outputs": [],
   "source": [
    "new_data"
   ]
  },
  {
   "cell_type": "code",
   "execution_count": 17,
   "metadata": {},
   "outputs": [
    {
     "data": {
      "text/plain": [
       "numpy.float64"
      ]
     },
     "execution_count": 17,
     "metadata": {},
     "output_type": "execute_result"
    }
   ],
   "source": [
    "type(new_data.voters_age[0])"
   ]
  },
  {
   "cell_type": "code",
   "execution_count": 13,
   "metadata": {},
   "outputs": [],
   "source": [
    "new_data['key'] = new_data.precinct.apply(lambda x: int(x[-2:] + x[-6:-3]))"
   ]
  },
  {
   "cell_type": "code",
   "execution_count": 14,
   "metadata": {},
   "outputs": [
    {
     "data": {
      "text/plain": [
       "0        50002\n",
       "1        50002\n",
       "2        50002\n",
       "3        50002\n",
       "4        50002\n",
       "5        50002\n",
       "6        50002\n",
       "7        50002\n",
       "8        50002\n",
       "9        50002\n",
       "10       50002\n",
       "11       50002\n",
       "12       50002\n",
       "13       50002\n",
       "14       50002\n",
       "15       50002\n",
       "16       50002\n",
       "17       50002\n",
       "18       50002\n",
       "19       50002\n",
       "20       50002\n",
       "21       50002\n",
       "22       50002\n",
       "23       50002\n",
       "24       50002\n",
       "25       50002\n",
       "26       50002\n",
       "27       50002\n",
       "28       50002\n",
       "29       50002\n",
       "         ...  \n",
       "74312    37088\n",
       "74313    37088\n",
       "74314    37088\n",
       "74315    37088\n",
       "74316    37088\n",
       "74317    37088\n",
       "74318    37088\n",
       "74319    37088\n",
       "74320    37088\n",
       "74321    37088\n",
       "74322    37088\n",
       "74323    37088\n",
       "74324    37088\n",
       "74325    37088\n",
       "74326    37088\n",
       "74327    37088\n",
       "74328    37088\n",
       "74329    37088\n",
       "74330    37088\n",
       "74331    37088\n",
       "74332    37088\n",
       "74333    37088\n",
       "74334    37088\n",
       "74335    37088\n",
       "74336    37088\n",
       "74337    37088\n",
       "74338    37088\n",
       "74339    37088\n",
       "74340    37088\n",
       "74341    37088\n",
       "Name: key, Length: 74342, dtype: int64"
      ]
     },
     "execution_count": 14,
     "metadata": {},
     "output_type": "execute_result"
    }
   ],
   "source": [
    "new_data['key']"
   ]
  },
  {
   "cell_type": "code",
   "execution_count": null,
   "metadata": {},
   "outputs": [],
   "source": []
  }
 ],
 "metadata": {
  "kernelspec": {
   "display_name": "Python 3",
   "language": "python",
   "name": "python3"
  },
  "language_info": {
   "codemirror_mode": {
    "name": "ipython",
    "version": 3
   },
   "file_extension": ".py",
   "mimetype": "text/x-python",
   "name": "python",
   "nbconvert_exporter": "python",
   "pygments_lexer": "ipython3",
   "version": "3.7.3"
  }
 },
 "nbformat": 4,
 "nbformat_minor": 4
}
