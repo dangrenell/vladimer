{
 "cells": [
  {
   "cell_type": "code",
   "execution_count": 68,
   "metadata": {},
   "outputs": [],
   "source": [
    "import pandas as pd"
   ]
  },
  {
   "cell_type": "code",
   "execution_count": 69,
   "metadata": {},
   "outputs": [],
   "source": [
    "kings = pd.read_csv('KingsED_feb19.csv', header = 4)\n",
    "queens = pd.read_csv('QueensED_feb19.csv', header = 4)\n",
    "ny = pd.read_csv('NewYorkED_feb19.csv', header = 4)\n",
    "\n",
    "df = pd.concat([kings, queens, ny])"
   ]
  },
  {
   "cell_type": "code",
   "execution_count": 70,
   "metadata": {},
   "outputs": [],
   "source": [
    "df = df.dropna(how = 'all', axis = 0)\n",
    "df = df.dropna(how = 'all', axis = 1)\n",
    "df = df[df['STATUS']=='Total']"
   ]
  },
  {
   "cell_type": "code",
   "execution_count": 71,
   "metadata": {},
   "outputs": [],
   "source": [
    "df['KEY'] = df['ELECTION DIST'].str[-5:]"
   ]
  },
  {
   "cell_type": "code",
   "execution_count": 72,
   "metadata": {},
   "outputs": [
    {
     "data": {
      "text/plain": [
       "4415"
      ]
     },
     "execution_count": 72,
     "metadata": {},
     "output_type": "execute_result"
    }
   ],
   "source": [
    "df.to_csv('registered_voters.csv')\n",
    "len(df)"
   ]
  },
  {
   "cell_type": "code",
   "execution_count": 73,
   "metadata": {},
   "outputs": [],
   "source": [
    "kings18 = pd.read_csv('KingsED_nov18.csv', header = 4)\n",
    "queens18 = pd.read_csv('QueensED_nov18.csv', header = 4)\n",
    "ny18 = pd.read_csv('NewYorkED_nov18.csv', header = 4)\n",
    "\n",
    "df18 = pd.concat([kings18, queens18, ny18])"
   ]
  },
  {
   "cell_type": "code",
   "execution_count": 74,
   "metadata": {},
   "outputs": [],
   "source": [
    "df18 = df18.dropna(how = 'all', axis = 0)\n",
    "df18 = df18.dropna(how = 'all', axis = 1)\n",
    "df18 = df18[df18['STATUS'] == 'Total']"
   ]
  },
  {
   "cell_type": "code",
   "execution_count": 75,
   "metadata": {},
   "outputs": [],
   "source": [
    "df18['KEY'] = df18['ELECTION DIST'].str[-5:]"
   ]
  },
  {
   "cell_type": "code",
   "execution_count": 76,
   "metadata": {},
   "outputs": [],
   "source": [
    "df18 = df18.drop(df18[df18.KEY.isna()].index, axis = 0)"
   ]
  },
  {
   "cell_type": "code",
   "execution_count": 77,
   "metadata": {},
   "outputs": [],
   "source": [
    "df18 = df18.rename(columns = {old:new for old, new in zip([x for x in df18.columns.values], [x + '18' for x in df18.columns.values])})\n",
    "df18 = df18.rename(columns = {'KEY18':'KEY'})"
   ]
  },
  {
   "cell_type": "code",
   "execution_count": 80,
   "metadata": {},
   "outputs": [],
   "source": [
    "df = pd.merge(left = df, right = df18.iloc[:, 3:], on = 'KEY', how='left')"
   ]
  },
  {
   "cell_type": "code",
   "execution_count": 81,
   "metadata": {},
   "outputs": [],
   "source": [
    "df.to_csv('registered_voters.csv')"
   ]
  },
  {
   "cell_type": "code",
   "execution_count": null,
   "metadata": {},
   "outputs": [],
   "source": []
  }
 ],
 "metadata": {
  "kernelspec": {
   "display_name": "Python 3",
   "language": "python",
   "name": "python3"
  },
  "language_info": {
   "codemirror_mode": {
    "name": "ipython",
    "version": 3
   },
   "file_extension": ".py",
   "mimetype": "text/x-python",
   "name": "python",
   "nbconvert_exporter": "python",
   "pygments_lexer": "ipython3",
   "version": "3.7.1"
  }
 },
 "nbformat": 4,
 "nbformat_minor": 2
}
